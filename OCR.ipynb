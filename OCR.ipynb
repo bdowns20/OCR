{
 "cells": [
  {
   "cell_type": "code",
   "execution_count": null,
   "id": "d2ec1304",
   "metadata": {},
   "outputs": [],
   "source": [
    "!pip install pytesseract"
   ]
  },
  {
   "cell_type": "code",
   "execution_count": null,
   "id": "3e18adb3",
   "metadata": {},
   "outputs": [],
   "source": [
    "!pip install pdf2image"
   ]
  },
  {
   "cell_type": "code",
   "execution_count": null,
   "id": "d6002b6f",
   "metadata": {},
   "outputs": [],
   "source": [
    "!pip uninstall numpy -y"
   ]
  },
  {
   "cell_type": "code",
   "execution_count": null,
   "id": "34ad6ccf",
   "metadata": {},
   "outputs": [],
   "source": [
    "!pip install numpy==1.23.5"
   ]
  },
  {
   "cell_type": "code",
   "execution_count": null,
   "id": "b1e3ca84",
   "metadata": {},
   "outputs": [],
   "source": [
    "# Import necessary libraries\n",
    "import pytesseract\n",
    "from pdf2image import convert_from_path\n",
    "import os\n",
    "from PIL import Image, ImageOps"
   ]
  },
  {
   "cell_type": "code",
   "execution_count": null,
   "id": "2c668a13",
   "metadata": {},
   "outputs": [],
   "source": [
    "\n",
    "# Configure path\n",
    "pytesseract.pytesseract.tesseract_cmd = '/opt/homebrew/bin/tesseract' \n",
    "\n",
    "# Function to convert PDF to images\n",
    "def convert_pdf_to_images(pdf_path, output_folder='temp_images', dpi=300):\n",
    "    images = convert_from_path(pdf_path, dpi=dpi)\n",
    "    if not os.path.exists(output_folder):\n",
    "        os.makedirs(output_folder)\n",
    "    \n",
    "    image_paths = []\n",
    "    for i, image in enumerate(images):\n",
    "        image_path = os.path.join(output_folder, f'page_{i + 1}.png')\n",
    "        image.save(image_path, 'PNG')\n",
    "        image_paths.append(image_path)\n",
    "    return image_paths\n",
    "\n",
    "# Function to preprocess image (optional for better OCR)\n",
    "def preprocess_image(image_path):\n",
    "    image = Image.open(image_path)\n",
    "    image = ImageOps.grayscale(image)  # Convert to grayscale\n",
    "    image = image.point(lambda x: 0 if x < 128 else 255, '1')  # Apply thresholding\n",
    "    return image\n",
    "\n",
    "# Function to extract text from image using Tesseract\n",
    "def extract_text_from_image(image):\n",
    "    text = pytesseract.image_to_string(image)\n",
    "    return text\n",
    "\n",
    "# Main function to process PDF and extract text\n",
    "def extract_text_from_pdf(pdf_path, output_text_folder='extracted_text'):\n",
    "    image_paths = convert_pdf_to_images(pdf_path)\n",
    "    full_text = ''\n",
    "\n",
    "    if not os.path.exists(output_text_folder):\n",
    "        os.makedirs(output_text_folder)\n",
    "\n",
    "    for image_path in image_paths:\n",
    "        preprocessed_image = preprocess_image(image_path)\n",
    "        text = extract_text_from_image(preprocessed_image)\n",
    "        full_text += text + '\\n'\n",
    "\n",
    "    # Save the extracted text to a file\n",
    "    output_file_path = os.path.join(output_text_folder, os.path.basename(pdf_path).replace('.pdf', '.txt'))\n",
    "    with open(output_file_path, 'w', encoding='utf-8') as f:\n",
    "        f.write(full_text)\n",
    "\n",
    "    print(f'Text extracted and saved to {output_file_path}')\n",
    "    return full_text\n",
    "\n",
    "# Specify the path to your PDF\n",
    "pdf_path = '/Users/barrettdowns/eucom/data/zerotrust.pdf'  # Replace 'your_pdf_file.pdf' with your actual PDF file name in the data folder\n",
    "extracted_text = extract_text_from_pdf(pdf_path)\n",
    "\n",
    "# Display the extracted text\n",
    "print(extracted_text)\n"
   ]
  },
  {
   "cell_type": "code",
   "execution_count": null,
   "id": "f992f52e",
   "metadata": {},
   "outputs": [],
   "source": [
    "!pip install spacy"
   ]
  },
  {
   "cell_type": "code",
   "execution_count": null,
   "id": "e461ebb8",
   "metadata": {},
   "outputs": [],
   "source": [
    "!pip install --upgrade numpy h5py"
   ]
  },
  {
   "cell_type": "code",
   "execution_count": null,
   "id": "1964a80d",
   "metadata": {},
   "outputs": [],
   "source": [
    "import numpy\n",
    "import h5py\n",
    "print(\"numpy version:\", numpy.__version__)\n",
    "print(\"h5py version:\", h5py.__version__)\n"
   ]
  },
  {
   "cell_type": "code",
   "execution_count": null,
   "id": "7ab5245c",
   "metadata": {},
   "outputs": [],
   "source": []
  },
  {
   "cell_type": "code",
   "execution_count": null,
   "id": "5d9f771b",
   "metadata": {},
   "outputs": [],
   "source": [
    "!python -m spacy download en_core_web_sm"
   ]
  },
  {
   "cell_type": "code",
   "execution_count": null,
   "id": "ca105fb9",
   "metadata": {},
   "outputs": [],
   "source": [
    "import spacy\n",
    "from collections import Counter\n",
    "\n",
    "# Load the English NLP model\n",
    "nlp = spacy.load('en_core_web_sm')\n",
    "\n",
    "# Process the extracted text\n",
    "doc = nlp(extracted_text)\n",
    "\n",
    "# Filter for relevant entity types (people, places, and things)\n",
    "entity_types = {\"PERSON\", \"GPE\", \"LOC\", \"ORG\", \"PRODUCT\"}\n",
    "filtered_entities = [ent.text for ent in doc.ents if ent.label_ in entity_types]\n",
    "\n",
    "# Count the frequency of each entity\n",
    "entity_counts = Counter(filtered_entities)\n",
    "\n",
    "# Display the frequency analysis sorted by the most common entities\n",
    "print(\"Entity Frequency Analysis:\")\n",
    "for entity, count in entity_counts.most_common():\n",
    "    print(f\"{entity}: {count}\")"
   ]
  },
  {
   "cell_type": "code",
   "execution_count": null,
   "id": "eebe247f",
   "metadata": {},
   "outputs": [],
   "source": [
    "import matplotlib.pyplot as plt\n",
    "\n",
    "# Plot the most common entities\n",
    "entities, counts = zip(*entity_counts.most_common(10))  # Top 10 entities\n",
    "plt.barh(entities, counts)\n",
    "plt.xlabel('Frequency')\n",
    "plt.title('Top 10 Entities in the Text')\n",
    "plt.gca().invert_yaxis()  # Invert the y-axis for better readability\n",
    "plt.show()\n"
   ]
  },
  {
   "cell_type": "markdown",
   "id": "a087e87f",
   "metadata": {},
   "source": [
    "# For multiple PDFs"
   ]
  },
  {
   "cell_type": "code",
   "execution_count": null,
   "id": "c4102a82",
   "metadata": {},
   "outputs": [],
   "source": [
    "!pip uninstall numpy -y\n",
    "!pip install numpy==1.23.5"
   ]
  },
  {
   "cell_type": "code",
   "execution_count": 1,
   "id": "1454f4ab",
   "metadata": {},
   "outputs": [
    {
     "name": "stderr",
     "output_type": "stream",
     "text": [
      "/opt/anaconda3/lib/python3.9/site-packages/pandas/core/arrays/masked.py:60: UserWarning: Pandas requires version '1.3.6' or newer of 'bottleneck' (version '1.3.5' currently installed).\n",
      "  from pandas.core import (\n"
     ]
    },
    {
     "name": "stdout",
     "output_type": "stream",
     "text": [
      "Processing: besta.pdf\n",
      "Processing: zerotrust.pdf\n",
      "Entity Frequency Analysis:\n",
      "BESTA: 50\n",
      "SSA: 38\n",
      "ORBITS: 24\n",
      "The MITRE Corporation: 17\n",
      "DLT: 16\n",
      "SNARE: 14\n",
      "Distribution Unlimited: 12\n",
      "Fig: 11\n",
      "Proc: 11\n",
      "N. G. Gordon: 10\n"
     ]
    }
   ],
   "source": [
    "import os\n",
    "import pytesseract\n",
    "from pdf2image import convert_from_path\n",
    "import spacy\n",
    "from collections import Counter\n",
    "import matplotlib.pyplot as plt\n",
    "\n",
    "# Ensure Tesseract is correctly configured\n",
    "pytesseract.pytesseract.tesseract_cmd = '/opt/homebrew/bin/tesseract' \n",
    "\n",
    "# Load spaCy language model\n",
    "nlp = spacy.load('en_core_web_sm')\n",
    "\n",
    "# Directory containing PDF files\n",
    "pdf_folder = 'data'\n",
    "\n",
    "# Initialize a variable to store all extracted text\n",
    "all_extracted_text = ''\n",
    "\n",
    "# Loop through all PDF files in the folder\n",
    "for filename in os.listdir(pdf_folder):\n",
    "    if filename.endswith('.pdf'):\n",
    "        pdf_path = os.path.join(pdf_folder, filename)\n",
    "        print(f'Processing: {filename}')\n",
    "\n",
    "        # Convert PDF to images\n",
    "        images = convert_from_path(pdf_path)\n",
    "        \n",
    "        # Extract text from each image page\n",
    "        for image in images:\n",
    "            text = pytesseract.image_to_string(image)\n",
    "            all_extracted_text += text + '\\n'  # Combine text from each page\n",
    "\n",
    "# Process the combined extracted text with spaCy\n",
    "doc = nlp(all_extracted_text)\n",
    "\n",
    "# Filter for relevant entity types (people, places, and things)\n",
    "entity_types = {\"PERSON\", \"GPE\", \"LOC\", \"ORG\", \"PRODUCT\"}\n",
    "filtered_entities = [ent.text for ent in doc.ents if ent.label_ in entity_types]\n",
    "\n",
    "# Count the frequency of each entity\n",
    "entity_counts = Counter(filtered_entities)\n",
    "\n",
    "# Display the frequency analysis sorted by the most common entities\n",
    "print(\"Entity Frequency Analysis:\")\n",
    "for entity, count in entity_counts.most_common(10):  # Display top 10 entities\n",
    "    print(f\"{entity}: {count}\")\n"
   ]
  },
  {
   "cell_type": "code",
   "execution_count": null,
   "id": "1a949c46",
   "metadata": {},
   "outputs": [],
   "source": [
    "\n",
    "# Plot the most common entities\n",
    "entities, counts = zip(*entity_counts.most_common(10))  # Top 10 entities\n",
    "plt.barh(entities, counts)\n",
    "plt.xlabel('Frequency')\n",
    "plt.title('Top 10 Entities in the Text')\n",
    "plt.gca().invert_yaxis()  # Invert the y-axis for better readability\n",
    "plt.show()\n"
   ]
  }
 ],
 "metadata": {
  "kernelspec": {
   "display_name": "Python 3 (ipykernel)",
   "language": "python",
   "name": "python3"
  },
  "language_info": {
   "codemirror_mode": {
    "name": "ipython",
    "version": 3
   },
   "file_extension": ".py",
   "mimetype": "text/x-python",
   "name": "python",
   "nbconvert_exporter": "python",
   "pygments_lexer": "ipython3",
   "version": "3.9.13"
  }
 },
 "nbformat": 4,
 "nbformat_minor": 5
}
